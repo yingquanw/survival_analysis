{
 "cells": [
  {
   "cell_type": "markdown",
   "id": "ffca5658-039b-44d6-8e2c-c9d230088cdf",
   "metadata": {},
   "source": [
    "# Survival analysis on LOG_S_1.0mm small dataset"
   ]
  },
  {
   "cell_type": "markdown",
   "id": "88ac7494-d6c3-4b08-9560-e91806d5e775",
   "metadata": {},
   "source": [
    "### Imports"
   ]
  },
  {
   "cell_type": "code",
   "execution_count": 77,
   "id": "8ee36307-8f28-4b61-9290-231737772fe2",
   "metadata": {},
   "outputs": [],
   "source": [
    "import matplotlib.pyplot as plt\n",
    "import numpy as np\n",
    "import pandas as pd\n",
    "from sklearn.compose import ColumnTransformer, make_column_transformer\n",
    "from sklearn.dummy import DummyClassifier\n",
    "from sklearn.ensemble import RandomForestClassifier, RandomForestRegressor\n",
    "from sklearn.impute import SimpleImputer\n",
    "from sklearn.linear_model import LogisticRegression, Ridge\n",
    "from sklearn.metrics import confusion_matrix\n",
    "from sklearn.model_selection import (\n",
    "    cross_val_predict,\n",
    "    cross_val_score,\n",
    "    cross_validate,\n",
    "    train_test_split,\n",
    ")\n",
    "from sklearn.pipeline import Pipeline, make_pipeline\n",
    "from sklearn.preprocessing import (\n",
    "    FunctionTransformer,\n",
    "    OneHotEncoder,\n",
    "    OrdinalEncoder,\n",
    "    StandardScaler,\n",
    ")"
   ]
  },
  {
   "cell_type": "markdown",
   "id": "ce70c4ba-9ff1-4cd1-bb6d-0b13e403c6fa",
   "metadata": {},
   "source": [
    "### Initial glance on data"
   ]
  },
  {
   "cell_type": "code",
   "execution_count": 78,
   "id": "3a1f326e-f341-492a-b4eb-8a3c8bc552b9",
   "metadata": {},
   "outputs": [
    {
     "data": {
      "text/html": [
       "<div>\n",
       "<style scoped>\n",
       "    .dataframe tbody tr th:only-of-type {\n",
       "        vertical-align: middle;\n",
       "    }\n",
       "\n",
       "    .dataframe tbody tr th {\n",
       "        vertical-align: top;\n",
       "    }\n",
       "\n",
       "    .dataframe thead th {\n",
       "        text-align: right;\n",
       "    }\n",
       "</style>\n",
       "<table border=\"1\" class=\"dataframe\">\n",
       "  <thead>\n",
       "    <tr style=\"text-align: right;\">\n",
       "      <th></th>\n",
       "      <th>A_LOG_1.0S_FO_10Percentile</th>\n",
       "      <th>A_LOG_1.0S_FO_90Percentile</th>\n",
       "      <th>A_LOG_1.0S_FO_Energy</th>\n",
       "      <th>A_LOG_1.0S_FO_Entropy</th>\n",
       "      <th>A_LOG_1.0S_FO_IQR</th>\n",
       "      <th>A_LOG_1.0S_FO_Kurtosis</th>\n",
       "      <th>A_LOG_1.0S_FO_Maximum</th>\n",
       "      <th>A_LOG_1.0S_FO_Mean</th>\n",
       "      <th>A_LOG_1.0S_FO_MAD</th>\n",
       "      <th>A_LOG_1.0S_FO_Median</th>\n",
       "      <th>...</th>\n",
       "      <th>E_shape_MajorAxis</th>\n",
       "      <th>E_shape_Maximum2DDiameterColumn</th>\n",
       "      <th>E_shape_Maximum2DDiameterRow</th>\n",
       "      <th>E_shape_Maximum2DDiameterSlice</th>\n",
       "      <th>E_shape_Maximum3DDiameter</th>\n",
       "      <th>E_shape_Sphericity</th>\n",
       "      <th>E_shape_SurfaceArea</th>\n",
       "      <th>E_shape_SurfaceVolumeRatio</th>\n",
       "      <th>censor</th>\n",
       "      <th>time</th>\n",
       "    </tr>\n",
       "  </thead>\n",
       "  <tbody>\n",
       "    <tr>\n",
       "      <th>0</th>\n",
       "      <td>-112.993087</td>\n",
       "      <td>34.278236</td>\n",
       "      <td>1.497499e+07</td>\n",
       "      <td>1.950718</td>\n",
       "      <td>78.772847</td>\n",
       "      <td>2.963165</td>\n",
       "      <td>125.661385</td>\n",
       "      <td>-36.069763</td>\n",
       "      <td>45.916473</td>\n",
       "      <td>-32.176239</td>\n",
       "      <td>...</td>\n",
       "      <td>56.413789</td>\n",
       "      <td>110.143944</td>\n",
       "      <td>105.702865</td>\n",
       "      <td>111.731201</td>\n",
       "      <td>47.445347</td>\n",
       "      <td>0.295952</td>\n",
       "      <td>22991.047470</td>\n",
       "      <td>0.435628</td>\n",
       "      <td>1</td>\n",
       "      <td>4.734247</td>\n",
       "    </tr>\n",
       "    <tr>\n",
       "      <th>1</th>\n",
       "      <td>-91.982840</td>\n",
       "      <td>19.046037</td>\n",
       "      <td>1.456415e+06</td>\n",
       "      <td>1.733513</td>\n",
       "      <td>45.578664</td>\n",
       "      <td>6.254949</td>\n",
       "      <td>191.171707</td>\n",
       "      <td>-23.584620</td>\n",
       "      <td>35.662827</td>\n",
       "      <td>-11.017938</td>\n",
       "      <td>...</td>\n",
       "      <td>31.705678</td>\n",
       "      <td>47.186476</td>\n",
       "      <td>42.071600</td>\n",
       "      <td>48.412302</td>\n",
       "      <td>26.403203</td>\n",
       "      <td>0.447198</td>\n",
       "      <td>5349.092830</td>\n",
       "      <td>0.486225</td>\n",
       "      <td>1</td>\n",
       "      <td>18.345205</td>\n",
       "    </tr>\n",
       "    <tr>\n",
       "      <th>2</th>\n",
       "      <td>-24.633341</td>\n",
       "      <td>7.849291</td>\n",
       "      <td>4.955951e+05</td>\n",
       "      <td>0.966132</td>\n",
       "      <td>13.906203</td>\n",
       "      <td>8.346409</td>\n",
       "      <td>32.401775</td>\n",
       "      <td>-6.966859</td>\n",
       "      <td>10.458822</td>\n",
       "      <td>-4.591255</td>\n",
       "      <td>...</td>\n",
       "      <td>44.359603</td>\n",
       "      <td>41.168907</td>\n",
       "      <td>50.109743</td>\n",
       "      <td>56.818000</td>\n",
       "      <td>34.330462</td>\n",
       "      <td>0.417301</td>\n",
       "      <td>7627.193971</td>\n",
       "      <td>0.451720</td>\n",
       "      <td>1</td>\n",
       "      <td>10.586301</td>\n",
       "    </tr>\n",
       "    <tr>\n",
       "      <th>3</th>\n",
       "      <td>-27.706317</td>\n",
       "      <td>15.834357</td>\n",
       "      <td>7.741525e+06</td>\n",
       "      <td>1.168238</td>\n",
       "      <td>17.453013</td>\n",
       "      <td>11.841962</td>\n",
       "      <td>111.435387</td>\n",
       "      <td>-4.398507</td>\n",
       "      <td>14.461138</td>\n",
       "      <td>-1.749925</td>\n",
       "      <td>...</td>\n",
       "      <td>62.334907</td>\n",
       "      <td>69.090980</td>\n",
       "      <td>78.631173</td>\n",
       "      <td>78.631173</td>\n",
       "      <td>56.161281</td>\n",
       "      <td>0.567011</td>\n",
       "      <td>17162.509940</td>\n",
       "      <td>0.190129</td>\n",
       "      <td>1</td>\n",
       "      <td>20.712329</td>\n",
       "    </tr>\n",
       "    <tr>\n",
       "      <th>4</th>\n",
       "      <td>-195.595828</td>\n",
       "      <td>99.832056</td>\n",
       "      <td>3.896654e+08</td>\n",
       "      <td>2.882933</td>\n",
       "      <td>96.341311</td>\n",
       "      <td>7.102594</td>\n",
       "      <td>483.333252</td>\n",
       "      <td>-28.100289</td>\n",
       "      <td>91.166116</td>\n",
       "      <td>-7.814033</td>\n",
       "      <td>...</td>\n",
       "      <td>58.462737</td>\n",
       "      <td>60.018560</td>\n",
       "      <td>58.283554</td>\n",
       "      <td>62.152361</td>\n",
       "      <td>47.212345</td>\n",
       "      <td>0.607316</td>\n",
       "      <td>12445.462710</td>\n",
       "      <td>0.201418</td>\n",
       "      <td>1</td>\n",
       "      <td>10.356164</td>\n",
       "    </tr>\n",
       "  </tbody>\n",
       "</table>\n",
       "<p>5 rows × 430 columns</p>\n",
       "</div>"
      ],
      "text/plain": [
       "   A_LOG_1.0S_FO_10Percentile  A_LOG_1.0S_FO_90Percentile  \\\n",
       "0                 -112.993087                   34.278236   \n",
       "1                  -91.982840                   19.046037   \n",
       "2                  -24.633341                    7.849291   \n",
       "3                  -27.706317                   15.834357   \n",
       "4                 -195.595828                   99.832056   \n",
       "\n",
       "   A_LOG_1.0S_FO_Energy  A_LOG_1.0S_FO_Entropy  A_LOG_1.0S_FO_IQR  \\\n",
       "0          1.497499e+07               1.950718          78.772847   \n",
       "1          1.456415e+06               1.733513          45.578664   \n",
       "2          4.955951e+05               0.966132          13.906203   \n",
       "3          7.741525e+06               1.168238          17.453013   \n",
       "4          3.896654e+08               2.882933          96.341311   \n",
       "\n",
       "   A_LOG_1.0S_FO_Kurtosis  A_LOG_1.0S_FO_Maximum  A_LOG_1.0S_FO_Mean  \\\n",
       "0                2.963165             125.661385          -36.069763   \n",
       "1                6.254949             191.171707          -23.584620   \n",
       "2                8.346409              32.401775           -6.966859   \n",
       "3               11.841962             111.435387           -4.398507   \n",
       "4                7.102594             483.333252          -28.100289   \n",
       "\n",
       "   A_LOG_1.0S_FO_MAD  A_LOG_1.0S_FO_Median  ...  E_shape_MajorAxis  \\\n",
       "0          45.916473            -32.176239  ...          56.413789   \n",
       "1          35.662827            -11.017938  ...          31.705678   \n",
       "2          10.458822             -4.591255  ...          44.359603   \n",
       "3          14.461138             -1.749925  ...          62.334907   \n",
       "4          91.166116             -7.814033  ...          58.462737   \n",
       "\n",
       "   E_shape_Maximum2DDiameterColumn  E_shape_Maximum2DDiameterRow  \\\n",
       "0                       110.143944                    105.702865   \n",
       "1                        47.186476                     42.071600   \n",
       "2                        41.168907                     50.109743   \n",
       "3                        69.090980                     78.631173   \n",
       "4                        60.018560                     58.283554   \n",
       "\n",
       "   E_shape_Maximum2DDiameterSlice  E_shape_Maximum3DDiameter  \\\n",
       "0                      111.731201                  47.445347   \n",
       "1                       48.412302                  26.403203   \n",
       "2                       56.818000                  34.330462   \n",
       "3                       78.631173                  56.161281   \n",
       "4                       62.152361                  47.212345   \n",
       "\n",
       "   E_shape_Sphericity  E_shape_SurfaceArea  E_shape_SurfaceVolumeRatio  \\\n",
       "0            0.295952         22991.047470                    0.435628   \n",
       "1            0.447198          5349.092830                    0.486225   \n",
       "2            0.417301          7627.193971                    0.451720   \n",
       "3            0.567011         17162.509940                    0.190129   \n",
       "4            0.607316         12445.462710                    0.201418   \n",
       "\n",
       "   censor       time  \n",
       "0       1   4.734247  \n",
       "1       1  18.345205  \n",
       "2       1  10.586301  \n",
       "3       1  20.712329  \n",
       "4       1  10.356164  \n",
       "\n",
       "[5 rows x 430 columns]"
      ]
     },
     "execution_count": 78,
     "metadata": {},
     "output_type": "execute_result"
    }
   ],
   "source": [
    "data = pd.read_excel('LOG_S_1.0mm.xlsx', sheet_name='Sheet 1')\n",
    "data.head()"
   ]
  },
  {
   "cell_type": "code",
   "execution_count": 79,
   "id": "14ec86e4-ed56-4299-9fe7-7aa0758fdada",
   "metadata": {},
   "outputs": [],
   "source": [
    "import lifelines"
   ]
  },
  {
   "cell_type": "markdown",
   "id": "e6293246-bcbe-480f-8306-ed4b4d7e1d15",
   "metadata": {},
   "source": [
    "### Train Test Split"
   ]
  },
  {
   "cell_type": "code",
   "execution_count": 80,
   "id": "7aa8247e-38b1-424d-a4eb-781a3e845e21",
   "metadata": {},
   "outputs": [
    {
     "data": {
      "text/html": [
       "<div>\n",
       "<style scoped>\n",
       "    .dataframe tbody tr th:only-of-type {\n",
       "        vertical-align: middle;\n",
       "    }\n",
       "\n",
       "    .dataframe tbody tr th {\n",
       "        vertical-align: top;\n",
       "    }\n",
       "\n",
       "    .dataframe thead th {\n",
       "        text-align: right;\n",
       "    }\n",
       "</style>\n",
       "<table border=\"1\" class=\"dataframe\">\n",
       "  <thead>\n",
       "    <tr style=\"text-align: right;\">\n",
       "      <th></th>\n",
       "      <th>A_LOG_1.0S_FO_10Percentile</th>\n",
       "      <th>A_LOG_1.0S_FO_90Percentile</th>\n",
       "      <th>A_LOG_1.0S_FO_Energy</th>\n",
       "      <th>A_LOG_1.0S_FO_Entropy</th>\n",
       "      <th>A_LOG_1.0S_FO_IQR</th>\n",
       "      <th>A_LOG_1.0S_FO_Kurtosis</th>\n",
       "      <th>A_LOG_1.0S_FO_Maximum</th>\n",
       "      <th>A_LOG_1.0S_FO_Mean</th>\n",
       "      <th>A_LOG_1.0S_FO_MAD</th>\n",
       "      <th>A_LOG_1.0S_FO_Median</th>\n",
       "      <th>...</th>\n",
       "      <th>E_shape_MajorAxis</th>\n",
       "      <th>E_shape_Maximum2DDiameterColumn</th>\n",
       "      <th>E_shape_Maximum2DDiameterRow</th>\n",
       "      <th>E_shape_Maximum2DDiameterSlice</th>\n",
       "      <th>E_shape_Maximum3DDiameter</th>\n",
       "      <th>E_shape_Sphericity</th>\n",
       "      <th>E_shape_SurfaceArea</th>\n",
       "      <th>E_shape_SurfaceVolumeRatio</th>\n",
       "      <th>censor</th>\n",
       "      <th>time</th>\n",
       "    </tr>\n",
       "  </thead>\n",
       "  <tbody>\n",
       "    <tr>\n",
       "      <th>23</th>\n",
       "      <td>-136.326178</td>\n",
       "      <td>28.534787</td>\n",
       "      <td>5.929321e+07</td>\n",
       "      <td>2.146554</td>\n",
       "      <td>84.596703</td>\n",
       "      <td>5.674135</td>\n",
       "      <td>200.210709</td>\n",
       "      <td>-49.659627</td>\n",
       "      <td>53.198603</td>\n",
       "      <td>-39.628033</td>\n",
       "      <td>...</td>\n",
       "      <td>42.505107</td>\n",
       "      <td>51.677153</td>\n",
       "      <td>52.402224</td>\n",
       "      <td>53.707476</td>\n",
       "      <td>33.780387</td>\n",
       "      <td>0.269664</td>\n",
       "      <td>6493.473258</td>\n",
       "      <td>0.942441</td>\n",
       "      <td>1</td>\n",
       "      <td>47.309589</td>\n",
       "    </tr>\n",
       "    <tr>\n",
       "      <th>9</th>\n",
       "      <td>-72.800306</td>\n",
       "      <td>40.854950</td>\n",
       "      <td>3.109927e+07</td>\n",
       "      <td>1.711837</td>\n",
       "      <td>56.870411</td>\n",
       "      <td>4.237524</td>\n",
       "      <td>166.760513</td>\n",
       "      <td>-12.856040</td>\n",
       "      <td>36.687428</td>\n",
       "      <td>-7.558704</td>\n",
       "      <td>...</td>\n",
       "      <td>73.050068</td>\n",
       "      <td>114.147811</td>\n",
       "      <td>105.541063</td>\n",
       "      <td>115.011659</td>\n",
       "      <td>61.368132</td>\n",
       "      <td>0.440469</td>\n",
       "      <td>37824.603640</td>\n",
       "      <td>0.187054</td>\n",
       "      <td>1</td>\n",
       "      <td>14.728767</td>\n",
       "    </tr>\n",
       "    <tr>\n",
       "      <th>75</th>\n",
       "      <td>-164.492950</td>\n",
       "      <td>40.678913</td>\n",
       "      <td>3.857270e+08</td>\n",
       "      <td>2.429253</td>\n",
       "      <td>96.290200</td>\n",
       "      <td>5.138702</td>\n",
       "      <td>268.316315</td>\n",
       "      <td>-50.682658</td>\n",
       "      <td>65.163284</td>\n",
       "      <td>-35.914999</td>\n",
       "      <td>...</td>\n",
       "      <td>63.648332</td>\n",
       "      <td>77.259264</td>\n",
       "      <td>76.748082</td>\n",
       "      <td>83.593809</td>\n",
       "      <td>59.303064</td>\n",
       "      <td>0.314814</td>\n",
       "      <td>26047.684900</td>\n",
       "      <td>0.373044</td>\n",
       "      <td>1</td>\n",
       "      <td>11.243836</td>\n",
       "    </tr>\n",
       "    <tr>\n",
       "      <th>116</th>\n",
       "      <td>-307.195953</td>\n",
       "      <td>73.882935</td>\n",
       "      <td>6.998296e+07</td>\n",
       "      <td>3.312063</td>\n",
       "      <td>198.950063</td>\n",
       "      <td>4.621181</td>\n",
       "      <td>407.875977</td>\n",
       "      <td>-112.185588</td>\n",
       "      <td>123.633278</td>\n",
       "      <td>-93.440277</td>\n",
       "      <td>...</td>\n",
       "      <td>69.000674</td>\n",
       "      <td>71.245140</td>\n",
       "      <td>67.843479</td>\n",
       "      <td>72.123861</td>\n",
       "      <td>53.321172</td>\n",
       "      <td>0.466786</td>\n",
       "      <td>19873.790060</td>\n",
       "      <td>0.236542</td>\n",
       "      <td>0</td>\n",
       "      <td>9.271233</td>\n",
       "    </tr>\n",
       "    <tr>\n",
       "      <th>115</th>\n",
       "      <td>-140.765985</td>\n",
       "      <td>36.945937</td>\n",
       "      <td>1.381109e+08</td>\n",
       "      <td>2.259325</td>\n",
       "      <td>87.466111</td>\n",
       "      <td>4.180886</td>\n",
       "      <td>250.706039</td>\n",
       "      <td>-45.650616</td>\n",
       "      <td>56.254705</td>\n",
       "      <td>-37.681164</td>\n",
       "      <td>...</td>\n",
       "      <td>75.881498</td>\n",
       "      <td>97.264657</td>\n",
       "      <td>89.431930</td>\n",
       "      <td>104.682305</td>\n",
       "      <td>58.167516</td>\n",
       "      <td>0.426495</td>\n",
       "      <td>31576.815380</td>\n",
       "      <td>0.214868</td>\n",
       "      <td>1</td>\n",
       "      <td>5.030137</td>\n",
       "    </tr>\n",
       "  </tbody>\n",
       "</table>\n",
       "<p>5 rows × 430 columns</p>\n",
       "</div>"
      ],
      "text/plain": [
       "     A_LOG_1.0S_FO_10Percentile  A_LOG_1.0S_FO_90Percentile  \\\n",
       "23                  -136.326178                   28.534787   \n",
       "9                    -72.800306                   40.854950   \n",
       "75                  -164.492950                   40.678913   \n",
       "116                 -307.195953                   73.882935   \n",
       "115                 -140.765985                   36.945937   \n",
       "\n",
       "     A_LOG_1.0S_FO_Energy  A_LOG_1.0S_FO_Entropy  A_LOG_1.0S_FO_IQR  \\\n",
       "23           5.929321e+07               2.146554          84.596703   \n",
       "9            3.109927e+07               1.711837          56.870411   \n",
       "75           3.857270e+08               2.429253          96.290200   \n",
       "116          6.998296e+07               3.312063         198.950063   \n",
       "115          1.381109e+08               2.259325          87.466111   \n",
       "\n",
       "     A_LOG_1.0S_FO_Kurtosis  A_LOG_1.0S_FO_Maximum  A_LOG_1.0S_FO_Mean  \\\n",
       "23                 5.674135             200.210709          -49.659627   \n",
       "9                  4.237524             166.760513          -12.856040   \n",
       "75                 5.138702             268.316315          -50.682658   \n",
       "116                4.621181             407.875977         -112.185588   \n",
       "115                4.180886             250.706039          -45.650616   \n",
       "\n",
       "     A_LOG_1.0S_FO_MAD  A_LOG_1.0S_FO_Median  ...  E_shape_MajorAxis  \\\n",
       "23           53.198603            -39.628033  ...          42.505107   \n",
       "9            36.687428             -7.558704  ...          73.050068   \n",
       "75           65.163284            -35.914999  ...          63.648332   \n",
       "116         123.633278            -93.440277  ...          69.000674   \n",
       "115          56.254705            -37.681164  ...          75.881498   \n",
       "\n",
       "     E_shape_Maximum2DDiameterColumn  E_shape_Maximum2DDiameterRow  \\\n",
       "23                         51.677153                     52.402224   \n",
       "9                         114.147811                    105.541063   \n",
       "75                         77.259264                     76.748082   \n",
       "116                        71.245140                     67.843479   \n",
       "115                        97.264657                     89.431930   \n",
       "\n",
       "     E_shape_Maximum2DDiameterSlice  E_shape_Maximum3DDiameter  \\\n",
       "23                        53.707476                  33.780387   \n",
       "9                        115.011659                  61.368132   \n",
       "75                        83.593809                  59.303064   \n",
       "116                       72.123861                  53.321172   \n",
       "115                      104.682305                  58.167516   \n",
       "\n",
       "     E_shape_Sphericity  E_shape_SurfaceArea  E_shape_SurfaceVolumeRatio  \\\n",
       "23             0.269664          6493.473258                    0.942441   \n",
       "9              0.440469         37824.603640                    0.187054   \n",
       "75             0.314814         26047.684900                    0.373044   \n",
       "116            0.466786         19873.790060                    0.236542   \n",
       "115            0.426495         31576.815380                    0.214868   \n",
       "\n",
       "     censor       time  \n",
       "23        1  47.309589  \n",
       "9         1  14.728767  \n",
       "75        1  11.243836  \n",
       "116       0   9.271233  \n",
       "115       1   5.030137  \n",
       "\n",
       "[5 rows x 430 columns]"
      ]
     },
     "execution_count": 80,
     "metadata": {},
     "output_type": "execute_result"
    }
   ],
   "source": [
    "train_df, test_df = train_test_split(data, random_state=123)\n",
    "train_df.head()"
   ]
  },
  {
   "cell_type": "code",
   "execution_count": 81,
   "id": "aca7caa8-9d0a-4d24-a446-d90fbcd821e0",
   "metadata": {},
   "outputs": [
    {
     "data": {
      "text/plain": [
       "(89, 430)"
      ]
     },
     "execution_count": 81,
     "metadata": {},
     "output_type": "execute_result"
    }
   ],
   "source": [
    "train_df.shape"
   ]
  },
  {
   "cell_type": "code",
   "execution_count": 82,
   "id": "0d84a1f0-f496-44d3-974d-4ab8e70f79bc",
   "metadata": {},
   "outputs": [
    {
     "data": {
      "text/plain": [
       "1    69\n",
       "0    20\n",
       "Name: censor, dtype: int64"
      ]
     },
     "execution_count": 82,
     "metadata": {},
     "output_type": "execute_result"
    }
   ],
   "source": [
    "train_df[\"censor\"].value_counts()"
   ]
  },
  {
   "cell_type": "code",
   "execution_count": 83,
   "id": "f720a425-c499-445a-b193-cd3de9687189",
   "metadata": {},
   "outputs": [
    {
     "name": "stdout",
     "output_type": "stream",
     "text": [
      "<class 'pandas.core.frame.DataFrame'>\n",
      "Int64Index: 89 entries, 23 to 109\n",
      "Columns: 430 entries, A_LOG_1.0S_FO_10Percentile to time\n",
      "dtypes: float64(424), int64(6)\n",
      "memory usage: 299.7 KB\n"
     ]
    }
   ],
   "source": [
    "train_df.info()"
   ]
  },
  {
   "cell_type": "markdown",
   "id": "4c5dc8f9-caa3-4418-8a8d-dfbeead22d62",
   "metadata": {},
   "source": [
    "### Preprocessing "
   ]
  },
  {
   "cell_type": "code",
   "execution_count": 84,
   "id": "d9302b3e-5824-46f6-9c35-e87350bbcd4a",
   "metadata": {},
   "outputs": [],
   "source": [
    "passthrough_features = [\"time\"]\n",
    "# don't want to scale tenure since it will be convenient to keep it in its original units of months.\n",
    "target_column = [\"censor\"]"
   ]
  },
  {
   "cell_type": "code",
   "execution_count": 85,
   "id": "92295ece-2d8c-4944-bba3-4aee318cd196",
   "metadata": {},
   "outputs": [],
   "source": [
    "numeric_features = list(\n",
    "    set(train_df.columns)\n",
    "    - set(passthrough_features)\n",
    "    - set(target_column)\n",
    ")"
   ]
  },
  {
   "cell_type": "code",
   "execution_count": 86,
   "id": "f07a7e58-5dab-4690-83a7-8b0c5b46d059",
   "metadata": {},
   "outputs": [],
   "source": [
    "# Using StandardScaler() to standardize numrical features\n",
    "# We don't have categoritcal features\n",
    "preprocessing_final = make_column_transformer(\n",
    "    (\n",
    "        FunctionTransformer(lambda x: x == 1),\n",
    "        target_column,\n",
    "    ), \n",
    "    (\"passthrough\", passthrough_features),\n",
    "    (StandardScaler(), numeric_features)\n",
    ")"
   ]
  },
  {
   "cell_type": "code",
   "execution_count": 87,
   "id": "7d786816-b3e5-4772-8528-1bb0fa573007",
   "metadata": {},
   "outputs": [],
   "source": [
    "preprocessing_final.fit(train_df);"
   ]
  },
  {
   "cell_type": "markdown",
   "id": "afd4a041-138f-44b0-97a8-aac8960eea27",
   "metadata": {},
   "source": [
    "### Get the column names of the columns created by the column transformer."
   ]
  },
  {
   "cell_type": "code",
   "execution_count": 88,
   "id": "0f756094-de52-461f-9c8b-27567a005641",
   "metadata": {},
   "outputs": [],
   "source": [
    "new_columns = (\n",
    "    target_column\n",
    "    + passthrough_features\n",
    "    + numeric_features\n",
    ")"
   ]
  },
  {
   "cell_type": "code",
   "execution_count": 89,
   "id": "8c658521-d7d5-47d9-adf4-2b640c855d9b",
   "metadata": {},
   "outputs": [],
   "source": [
    "train_df_surv = pd.DataFrame(\n",
    "    preprocessing_final.transform(train_df), index=train_df.index, columns=new_columns\n",
    ")\n",
    "test_df_surv = pd.DataFrame(\n",
    "    preprocessing_final.transform(test_df), index=test_df.index, columns=new_columns\n",
    ")"
   ]
  },
  {
   "cell_type": "code",
   "execution_count": 90,
   "id": "05313c20-8944-4400-a83a-2bb25e5e67ea",
   "metadata": {},
   "outputs": [
    {
     "data": {
      "text/html": [
       "<div>\n",
       "<style scoped>\n",
       "    .dataframe tbody tr th:only-of-type {\n",
       "        vertical-align: middle;\n",
       "    }\n",
       "\n",
       "    .dataframe tbody tr th {\n",
       "        vertical-align: top;\n",
       "    }\n",
       "\n",
       "    .dataframe thead th {\n",
       "        text-align: right;\n",
       "    }\n",
       "</style>\n",
       "<table border=\"1\" class=\"dataframe\">\n",
       "  <thead>\n",
       "    <tr style=\"text-align: right;\">\n",
       "      <th></th>\n",
       "      <th>censor</th>\n",
       "      <th>time</th>\n",
       "      <th>N_LOG_1.0S_GLCM_JA</th>\n",
       "      <th>T_LOG_1.0S_GLSZM_SALGLE</th>\n",
       "      <th>E_LOG_1.0S_GLSZM_SAE</th>\n",
       "      <th>N_shape_SurfaceArea</th>\n",
       "      <th>T_LOG_1.0S_FO_Skewness</th>\n",
       "      <th>T_LOG_1.0S_FO_Energy</th>\n",
       "      <th>T_LOG_1.0S_GLRLM_SRHGLE</th>\n",
       "      <th>T_LOG_1.0S_FO_Entropy</th>\n",
       "      <th>...</th>\n",
       "      <th>A_LOG_1.0S_NGTDM_Coarseness</th>\n",
       "      <th>N_LOG_1.0S_FO_10Percentile</th>\n",
       "      <th>N_LOG_1.0S_GLSZM_HGLZE</th>\n",
       "      <th>A_LOG_1.0S_GLCM_SE</th>\n",
       "      <th>A_LOG_1.0S_FO_TE</th>\n",
       "      <th>E_LOG_1.0S_NGTDM_Complexity</th>\n",
       "      <th>T_LOG_1.0S_GLDM_DV</th>\n",
       "      <th>A_LOG_1.0S_GLRLM_RE</th>\n",
       "      <th>A_shape_Maximum2DDiameterSlice</th>\n",
       "      <th>T_LOG_1.0S_FO_Variance</th>\n",
       "    </tr>\n",
       "  </thead>\n",
       "  <tbody>\n",
       "    <tr>\n",
       "      <th>23</th>\n",
       "      <td>1.0</td>\n",
       "      <td>47.309589</td>\n",
       "      <td>-0.003345</td>\n",
       "      <td>-0.537238</td>\n",
       "      <td>-0.101096</td>\n",
       "      <td>-0.529196</td>\n",
       "      <td>-0.648566</td>\n",
       "      <td>-0.210620</td>\n",
       "      <td>-0.069552</td>\n",
       "      <td>0.169894</td>\n",
       "      <td>...</td>\n",
       "      <td>-0.266033</td>\n",
       "      <td>-0.180555</td>\n",
       "      <td>-0.209015</td>\n",
       "      <td>0.316880</td>\n",
       "      <td>-0.385739</td>\n",
       "      <td>-0.029625</td>\n",
       "      <td>2.057442</td>\n",
       "      <td>0.157414</td>\n",
       "      <td>0.402288</td>\n",
       "      <td>-0.186263</td>\n",
       "    </tr>\n",
       "    <tr>\n",
       "      <th>9</th>\n",
       "      <td>1.0</td>\n",
       "      <td>14.728767</td>\n",
       "      <td>-0.367806</td>\n",
       "      <td>-0.034233</td>\n",
       "      <td>0.289555</td>\n",
       "      <td>-0.000025</td>\n",
       "      <td>-0.397175</td>\n",
       "      <td>-0.243197</td>\n",
       "      <td>-0.449048</td>\n",
       "      <td>-0.518355</td>\n",
       "      <td>...</td>\n",
       "      <td>-0.480265</td>\n",
       "      <td>0.136767</td>\n",
       "      <td>-0.279798</td>\n",
       "      <td>-0.360721</td>\n",
       "      <td>-0.234693</td>\n",
       "      <td>-0.335688</td>\n",
       "      <td>0.200735</td>\n",
       "      <td>-0.243563</td>\n",
       "      <td>0.021448</td>\n",
       "      <td>-0.335192</td>\n",
       "    </tr>\n",
       "    <tr>\n",
       "      <th>75</th>\n",
       "      <td>1.0</td>\n",
       "      <td>11.243836</td>\n",
       "      <td>0.606227</td>\n",
       "      <td>-0.643614</td>\n",
       "      <td>-1.653106</td>\n",
       "      <td>1.774205</td>\n",
       "      <td>-0.683591</td>\n",
       "      <td>0.125308</td>\n",
       "      <td>0.253589</td>\n",
       "      <td>0.515551</td>\n",
       "      <td>...</td>\n",
       "      <td>-0.581105</td>\n",
       "      <td>-0.164287</td>\n",
       "      <td>0.159634</td>\n",
       "      <td>0.610658</td>\n",
       "      <td>0.494235</td>\n",
       "      <td>-0.292262</td>\n",
       "      <td>0.368066</td>\n",
       "      <td>0.583578</td>\n",
       "      <td>0.971441</td>\n",
       "      <td>-0.066811</td>\n",
       "    </tr>\n",
       "    <tr>\n",
       "      <th>116</th>\n",
       "      <td>0.0</td>\n",
       "      <td>9.271233</td>\n",
       "      <td>1.972629</td>\n",
       "      <td>-0.555430</td>\n",
       "      <td>-0.204873</td>\n",
       "      <td>-0.904473</td>\n",
       "      <td>0.198206</td>\n",
       "      <td>-0.202469</td>\n",
       "      <td>1.290834</td>\n",
       "      <td>1.868426</td>\n",
       "      <td>...</td>\n",
       "      <td>0.770154</td>\n",
       "      <td>-1.706635</td>\n",
       "      <td>1.262994</td>\n",
       "      <td>1.595650</td>\n",
       "      <td>0.088095</td>\n",
       "      <td>-0.279239</td>\n",
       "      <td>-2.314638</td>\n",
       "      <td>1.237680</td>\n",
       "      <td>-1.030492</td>\n",
       "      <td>1.081906</td>\n",
       "    </tr>\n",
       "    <tr>\n",
       "      <th>115</th>\n",
       "      <td>1.0</td>\n",
       "      <td>5.030137</td>\n",
       "      <td>0.261193</td>\n",
       "      <td>-0.510896</td>\n",
       "      <td>-0.154223</td>\n",
       "      <td>1.497561</td>\n",
       "      <td>-0.112099</td>\n",
       "      <td>-0.128730</td>\n",
       "      <td>-0.165557</td>\n",
       "      <td>0.296566</td>\n",
       "      <td>...</td>\n",
       "      <td>-0.497118</td>\n",
       "      <td>-0.589422</td>\n",
       "      <td>0.018727</td>\n",
       "      <td>0.348508</td>\n",
       "      <td>0.638641</td>\n",
       "      <td>-0.330668</td>\n",
       "      <td>-0.170805</td>\n",
       "      <td>0.282769</td>\n",
       "      <td>0.535119</td>\n",
       "      <td>-0.166716</td>\n",
       "    </tr>\n",
       "  </tbody>\n",
       "</table>\n",
       "<p>5 rows × 430 columns</p>\n",
       "</div>"
      ],
      "text/plain": [
       "     censor       time  N_LOG_1.0S_GLCM_JA  T_LOG_1.0S_GLSZM_SALGLE  \\\n",
       "23      1.0  47.309589           -0.003345                -0.537238   \n",
       "9       1.0  14.728767           -0.367806                -0.034233   \n",
       "75      1.0  11.243836            0.606227                -0.643614   \n",
       "116     0.0   9.271233            1.972629                -0.555430   \n",
       "115     1.0   5.030137            0.261193                -0.510896   \n",
       "\n",
       "     E_LOG_1.0S_GLSZM_SAE  N_shape_SurfaceArea  T_LOG_1.0S_FO_Skewness  \\\n",
       "23              -0.101096            -0.529196               -0.648566   \n",
       "9                0.289555            -0.000025               -0.397175   \n",
       "75              -1.653106             1.774205               -0.683591   \n",
       "116             -0.204873            -0.904473                0.198206   \n",
       "115             -0.154223             1.497561               -0.112099   \n",
       "\n",
       "     T_LOG_1.0S_FO_Energy  T_LOG_1.0S_GLRLM_SRHGLE  T_LOG_1.0S_FO_Entropy  \\\n",
       "23              -0.210620                -0.069552               0.169894   \n",
       "9               -0.243197                -0.449048              -0.518355   \n",
       "75               0.125308                 0.253589               0.515551   \n",
       "116             -0.202469                 1.290834               1.868426   \n",
       "115             -0.128730                -0.165557               0.296566   \n",
       "\n",
       "     ...  A_LOG_1.0S_NGTDM_Coarseness  N_LOG_1.0S_FO_10Percentile  \\\n",
       "23   ...                    -0.266033                   -0.180555   \n",
       "9    ...                    -0.480265                    0.136767   \n",
       "75   ...                    -0.581105                   -0.164287   \n",
       "116  ...                     0.770154                   -1.706635   \n",
       "115  ...                    -0.497118                   -0.589422   \n",
       "\n",
       "     N_LOG_1.0S_GLSZM_HGLZE  A_LOG_1.0S_GLCM_SE  A_LOG_1.0S_FO_TE  \\\n",
       "23                -0.209015            0.316880         -0.385739   \n",
       "9                 -0.279798           -0.360721         -0.234693   \n",
       "75                 0.159634            0.610658          0.494235   \n",
       "116                1.262994            1.595650          0.088095   \n",
       "115                0.018727            0.348508          0.638641   \n",
       "\n",
       "     E_LOG_1.0S_NGTDM_Complexity  T_LOG_1.0S_GLDM_DV  A_LOG_1.0S_GLRLM_RE  \\\n",
       "23                     -0.029625            2.057442             0.157414   \n",
       "9                      -0.335688            0.200735            -0.243563   \n",
       "75                     -0.292262            0.368066             0.583578   \n",
       "116                    -0.279239           -2.314638             1.237680   \n",
       "115                    -0.330668           -0.170805             0.282769   \n",
       "\n",
       "     A_shape_Maximum2DDiameterSlice  T_LOG_1.0S_FO_Variance  \n",
       "23                         0.402288               -0.186263  \n",
       "9                          0.021448               -0.335192  \n",
       "75                         0.971441               -0.066811  \n",
       "116                       -1.030492                1.081906  \n",
       "115                        0.535119               -0.166716  \n",
       "\n",
       "[5 rows x 430 columns]"
      ]
     },
     "execution_count": 90,
     "metadata": {},
     "output_type": "execute_result"
    }
   ],
   "source": [
    "train_df_surv.head()"
   ]
  },
  {
   "cell_type": "markdown",
   "id": "49ac7a39-3ebd-460d-8593-bebe428599ca",
   "metadata": {},
   "source": [
    "### Kaplan-Meier survival curve"
   ]
  },
  {
   "cell_type": "markdown",
   "id": "5896d80a-24c1-43b8-b406-6574dab836bb",
   "metadata": {},
   "source": [
    "#### I started with a model called KaplanMeierFitter.\n",
    "#### I used this model to estimate the survival function. "
   ]
  },
  {
   "cell_type": "markdown",
   "id": "cec24a34-db32-457a-85d0-c099d21bc4d4",
   "metadata": {},
   "source": [
    "#### This model requires two columns: time and censor."
   ]
  },
  {
   "cell_type": "code",
   "execution_count": 91,
   "id": "069dd59e-11db-476b-a841-b435cc3bb22f",
   "metadata": {},
   "outputs": [],
   "source": [
    "kmf = lifelines.KaplanMeierFitter()\n",
    "kmf.fit(train_df_surv[\"time\"], train_df_surv[\"censor\"]);"
   ]
  },
  {
   "cell_type": "code",
   "execution_count": 92,
   "id": "f554c1c9-c220-4969-8229-16deeb6cdf75",
   "metadata": {},
   "outputs": [
    {
     "data": {
      "image/png": "[encoded data removed]",
      "text/plain": [
       "<Figure size 640x480 with 1 Axes>"
      ]
     },
     "metadata": {},
     "output_type": "display_data"
    }
   ],
   "source": [
    "kmf.survival_function_.plot();\n",
    "plt.title(\"Survival function of patients\")\n",
    "plt.xlabel(\"Time (months)\")\n",
    "plt.ylabel(\"Survival probability\");"
   ]
  },
  {
   "cell_type": "markdown",
   "id": "5e6527fa-8b88-4000-a0e0-60db942ce547",
   "metadata": {},
   "source": [
    "##### Average survival time"
   ]
  },
  {
   "cell_type": "code",
   "execution_count": 93,
   "id": "b501e9c4-090c-41d9-8bef-170673cfe4c7",
   "metadata": {},
   "outputs": [
    {
     "data": {
      "text/plain": [
       "15.198276127786515"
      ]
     },
     "execution_count": 93,
     "metadata": {},
     "output_type": "execute_result"
    }
   ],
   "source": [
    "train_df_surv[\"time\"].mean()"
   ]
  },
  {
   "cell_type": "markdown",
   "id": "ef99e2c3-2b2d-4ef2-b689-e7beecbe130b",
   "metadata": {},
   "source": [
    "##### Average survival time for patients alive"
   ]
  },
  {
   "cell_type": "code",
   "execution_count": 94,
   "id": "fce6e4c8-3373-43d7-8d80-1c199dbab19e",
   "metadata": {},
   "outputs": [
    {
     "data": {
      "text/plain": [
       "14.384752829666665"
      ]
     },
     "execution_count": 94,
     "metadata": {},
     "output_type": "execute_result"
    }
   ],
   "source": [
    "train_df_surv.query(\"censor == 1.0\")[\"time\"].mean()"
   ]
  },
  {
   "cell_type": "markdown",
   "id": "8dc52a04-33f2-4c8a-b714-8d44d21831ec",
   "metadata": {},
   "source": [
    "##### Average survival time for patients passed away"
   ]
  },
  {
   "cell_type": "code",
   "execution_count": 95,
   "id": "be1d5642-4784-49c7-928e-b8bb9b2c1d60",
   "metadata": {},
   "outputs": [
    {
     "data": {
      "text/plain": [
       "18.004931506300004"
      ]
     },
     "execution_count": 95,
     "metadata": {},
     "output_type": "execute_result"
    }
   ],
   "source": [
    "train_df_surv.query(\"censor == 0.0\")[\"time\"].mean()"
   ]
  },
  {
   "cell_type": "markdown",
   "id": "e3b67fe1-153e-4dda-bc62-6e8c04164e5a",
   "metadata": {},
   "source": [
    "#### Survial function with error bar"
   ]
  },
  {
   "cell_type": "code",
   "execution_count": 96,
   "id": "3b87fa8e-e39b-4bf1-bfc9-823aaf1c5021",
   "metadata": {},
   "outputs": [
    {
     "data": {
      "image/png": "[encoded data removed]",
      "text/plain": [
       "<Figure size 640x480 with 1 Axes>"
      ]
     },
     "metadata": {},
     "output_type": "display_data"
    }
   ],
   "source": [
    "kmf.plot()\n",
    "plt.title(\"Survival function of patients\")\n",
    "plt.xlabel(\"Time (months)\")\n",
    "plt.ylabel(\"Survival probability\");"
   ]
  },
  {
   "cell_type": "markdown",
   "id": "1f87d50b-0de5-43bd-a907-33bf634d7250",
   "metadata": {},
   "source": [
    "### Cox proportional hazards model"
   ]
  },
  {
   "cell_type": "code",
   "execution_count": 97,
   "id": "1791d0eb-8f42-47c6-921c-b2b8bb87a234",
   "metadata": {},
   "outputs": [],
   "source": [
    "cph = lifelines.CoxPHFitter()"
   ]
  },
  {
   "cell_type": "code",
   "execution_count": 98,
   "id": "34aa7994-2833-44f7-b28d-e0813b0959f8",
   "metadata": {},
   "outputs": [],
   "source": [
    "cph = lifelines.CoxPHFitter(penalizer=0.1)\n",
    "cph.fit(train_df_surv, duration_col=\"time\", event_col=\"censor\");"
   ]
  },
  {
   "cell_type": "markdown",
   "id": "40fb4b79-aafd-4697-98a7-de64663ed70e",
   "metadata": {},
   "source": [
    "#### Coefficients learned by the model and start interpreting"
   ]
  },
  {
   "cell_type": "code",
   "execution_count": 99,
   "id": "b262cd4e-f769-4543-b90a-c3830de19943",
   "metadata": {},
   "outputs": [
    {
     "data": {
      "text/html": [
       "<div>\n",
       "<style scoped>\n",
       "    .dataframe tbody tr th:only-of-type {\n",
       "        vertical-align: middle;\n",
       "    }\n",
       "\n",
       "    .dataframe tbody tr th {\n",
       "        vertical-align: top;\n",
       "    }\n",
       "\n",
       "    .dataframe thead th {\n",
       "        text-align: right;\n",
       "    }\n",
       "</style>\n",
       "<table border=\"1\" class=\"dataframe\">\n",
       "  <thead>\n",
       "    <tr style=\"text-align: right;\">\n",
       "      <th></th>\n",
       "      <th>coef</th>\n",
       "    </tr>\n",
       "    <tr>\n",
       "      <th>covariate</th>\n",
       "      <th></th>\n",
       "    </tr>\n",
       "  </thead>\n",
       "  <tbody>\n",
       "    <tr>\n",
       "      <th>Age</th>\n",
       "      <td>0.550230</td>\n",
       "    </tr>\n",
       "    <tr>\n",
       "      <th>A_shape_Maximum2DDiameterSlice</th>\n",
       "      <td>0.411338</td>\n",
       "    </tr>\n",
       "    <tr>\n",
       "      <th>N_LOG_1.0S_GLCM_Correlation</th>\n",
       "      <td>0.328124</td>\n",
       "    </tr>\n",
       "    <tr>\n",
       "      <th>T_LOG_1.0S_GLSZM_SZNUN</th>\n",
       "      <td>0.266966</td>\n",
       "    </tr>\n",
       "    <tr>\n",
       "      <th>E_LOG_1.0S_GLCM_CP</th>\n",
       "      <td>0.260755</td>\n",
       "    </tr>\n",
       "    <tr>\n",
       "      <th>...</th>\n",
       "      <td>...</td>\n",
       "    </tr>\n",
       "    <tr>\n",
       "      <th>E_LOG_1.0S_FO_90Percentile</th>\n",
       "      <td>-0.344341</td>\n",
       "    </tr>\n",
       "    <tr>\n",
       "      <th>E_LOG_1.0S_GLSZM_SALGLE</th>\n",
       "      <td>-0.349753</td>\n",
       "    </tr>\n",
       "    <tr>\n",
       "      <th>N_LOG_1.0S_GLSZM_SAE</th>\n",
       "      <td>-0.363663</td>\n",
       "    </tr>\n",
       "    <tr>\n",
       "      <th>PTA</th>\n",
       "      <td>-0.419827</td>\n",
       "    </tr>\n",
       "    <tr>\n",
       "      <th>RTA</th>\n",
       "      <td>-0.691881</td>\n",
       "    </tr>\n",
       "  </tbody>\n",
       "</table>\n",
       "<p>428 rows × 1 columns</p>\n",
       "</div>"
      ],
      "text/plain": [
       "                                    coef\n",
       "covariate                               \n",
       "Age                             0.550230\n",
       "A_shape_Maximum2DDiameterSlice  0.411338\n",
       "N_LOG_1.0S_GLCM_Correlation     0.328124\n",
       "T_LOG_1.0S_GLSZM_SZNUN          0.266966\n",
       "E_LOG_1.0S_GLCM_CP              0.260755\n",
       "...                                  ...\n",
       "E_LOG_1.0S_FO_90Percentile     -0.344341\n",
       "E_LOG_1.0S_GLSZM_SALGLE        -0.349753\n",
       "N_LOG_1.0S_GLSZM_SAE           -0.363663\n",
       "PTA                            -0.419827\n",
       "RTA                            -0.691881\n",
       "\n",
       "[428 rows x 1 columns]"
      ]
     },
     "execution_count": 99,
     "metadata": {},
     "output_type": "execute_result"
    }
   ],
   "source": [
    "cph_params = pd.DataFrame(cph.params_).sort_values(by=\"coef\", ascending=False)\n",
    "cph_params"
   ]
  },
  {
   "cell_type": "code",
   "execution_count": 100,
   "id": "cc483cad-2b61-46d4-9147-a8cc57674f95",
   "metadata": {},
   "outputs": [],
   "source": [
    "coefficients = cph.summary['coef']"
   ]
  },
  {
   "cell_type": "markdown",
   "id": "aae653d1-e7b5-408d-ad28-0c6de1f9b7ce",
   "metadata": {},
   "source": [
    "### Top 10 \"positive\" features: The larger these variables are, the less likely the patient are going to survive longer. (Bad feature)"
   ]
  },
  {
   "cell_type": "code",
   "execution_count": 101,
   "id": "9959fc7a-787a-42db-86f5-7e19e30c3f63",
   "metadata": {},
   "outputs": [],
   "source": [
    "top_positive_features = coefficients[coefficients > 0].nlargest(10).index"
   ]
  },
  {
   "cell_type": "code",
   "execution_count": 102,
   "id": "cc42e00b-d1ce-4bcb-970e-b12de1d9ed5a",
   "metadata": {},
   "outputs": [
    {
     "data": {
      "image/png": "[encoded data removed]",
      "text/plain": [
       "<Figure size 640x480 with 1 Axes>"
      ]
     },
     "metadata": {},
     "output_type": "display_data"
    },
    {
     "data": {
      "text/plain": [
       "<Figure size 1000x1200 with 0 Axes>"
      ]
     },
     "metadata": {},
     "output_type": "display_data"
    }
   ],
   "source": [
    "cph.plot(top_positive_features)\n",
    "plt.figure(figsize=(10, 12))\n",
    "plt.show()"
   ]
  },
  {
   "cell_type": "markdown",
   "id": "5b3c08cc-49ac-453d-b9cf-da70d4558bd5",
   "metadata": {},
   "source": [
    "### Top 10 \"negative\" features: The larger these variables are, the more likely the patient are going to survive longer. (Good feature)"
   ]
  },
  {
   "cell_type": "code",
   "execution_count": 103,
   "id": "983b8dfa-af50-471c-9c49-296d73ce673b",
   "metadata": {},
   "outputs": [],
   "source": [
    "top_negative_features = coefficients[coefficients < 0].nsmallest(10).index"
   ]
  },
  {
   "cell_type": "code",
   "execution_count": 104,
   "id": "9a767a42-bec7-4f1b-8b27-ee25d2d89d6e",
   "metadata": {},
   "outputs": [
    {
     "data": {
      "text/plain": [
       "<AxesSubplot: xlabel='log(HR) (95% CI)'>"
      ]
     },
     "execution_count": 104,
     "metadata": {},
     "output_type": "execute_result"
    },
    {
     "data": {
      "image/png": "[encoded data removed]",
      "text/plain": [
       "<Figure size 640x480 with 1 Axes>"
      ]
     },
     "metadata": {},
     "output_type": "display_data"
    }
   ],
   "source": [
    "cph.plot(top_negative_features)"
   ]
  },
  {
   "cell_type": "markdown",
   "id": "d8ebe6a9-0b8a-4452-b12c-a2a2ff911617",
   "metadata": {},
   "source": [
    "## Prediction"
   ]
  },
  {
   "cell_type": "markdown",
   "id": "186f376b-ba51-484f-894e-e52a74285503",
   "metadata": {},
   "source": [
    "#### I hope to know the quality of my model"
   ]
  },
  {
   "cell_type": "markdown",
   "id": "8965bb3a-374a-43ef-87bd-36e2e25547bb",
   "metadata": {},
   "source": [
    "#### I used concordance-index, also known as the c-index to evaluate my model. I chose to use it because it is censoring-sensitive.\n",
    "\n",
    "##### From the documentation:\n",
    "**0.5** is the expected result from random predictions, <br />\n",
    "**1.0** is perfect concordance <br />\n",
    "**0.0** is perfect anti-concordance"
   ]
  },
  {
   "cell_type": "markdown",
   "id": "6969a9c2-206f-4aa7-b11e-056ccf2e084b",
   "metadata": {},
   "source": [
    "### On training set:"
   ]
  },
  {
   "cell_type": "code",
   "execution_count": 105,
   "id": "7e09fc8d-ebc7-4884-a006-9a01f65e1b89",
   "metadata": {},
   "outputs": [
    {
     "data": {
      "text/plain": [
       "0.9493427380570696"
      ]
     },
     "execution_count": 105,
     "metadata": {},
     "output_type": "execute_result"
    }
   ],
   "source": [
    "cph.score(train_df_surv, scoring_method=\"concordance_index\")"
   ]
  },
  {
   "cell_type": "markdown",
   "id": "688a5741-04d6-41a2-a2ad-92c15da59e0f",
   "metadata": {},
   "source": [
    "##### This indicates that the model has an excellent fit to the training data."
   ]
  },
  {
   "cell_type": "markdown",
   "id": "d613e0ab-286a-45d8-b073-9165caa0f661",
   "metadata": {},
   "source": [
    "### On testing set:"
   ]
  },
  {
   "cell_type": "code",
   "execution_count": 106,
   "id": "b4b62660-cf8b-4807-9a87-8ce31af6f4c5",
   "metadata": {},
   "outputs": [
    {
     "data": {
      "text/plain": [
       "0.6609686609686609"
      ]
     },
     "execution_count": 106,
     "metadata": {},
     "output_type": "execute_result"
    }
   ],
   "source": [
    "cph.score(test_df_surv, scoring_method=\"concordance_index\")"
   ]
  },
  {
   "cell_type": "markdown",
   "id": "8f98e50c-f7f9-4a74-9907-f33b7acae678",
   "metadata": {},
   "source": [
    "##### This value is significantly lower than the training score, indicating that the model's performance drops when predicting on unseen data."
   ]
  },
  {
   "cell_type": "markdown",
   "id": "7a68d9f4-c8eb-4053-b3d4-5752242d4621",
   "metadata": {},
   "source": [
    "### The large discrepancy between the training and testing scores suggests that the model might be **overfitting** to the training data."
   ]
  },
  {
   "cell_type": "markdown",
   "id": "e20bf217-3631-4334-83c3-ecc202fdc741",
   "metadata": {},
   "source": [
    "### More actions could be taken to address this overfitting issue. One measure I could think of is to increase the sample size. Now we have only about 300 observations, which is probably too small for training a good model."
   ]
  },
  {
   "cell_type": "code",
   "execution_count": null,
   "id": "d5b92941-d291-49e3-87f2-eb1788419359",
   "metadata": {},
   "outputs": [],
   "source": []
  }
 ],
 "metadata": {
  "kernelspec": {
   "display_name": "Python [conda env:survival]",
   "language": "python",
   "name": "conda-env-survival-py"
  },
  "language_info": {
   "codemirror_mode": {
    "name": "ipython",
    "version": 3
   },
   "file_extension": ".py",
   "mimetype": "text/x-python",
   "name": "python",
   "nbconvert_exporter": "python",
   "pygments_lexer": "ipython3",
   "version": "3.10.12"
  }
 },
 "nbformat": 4,
 "nbformat_minor": 5
}
